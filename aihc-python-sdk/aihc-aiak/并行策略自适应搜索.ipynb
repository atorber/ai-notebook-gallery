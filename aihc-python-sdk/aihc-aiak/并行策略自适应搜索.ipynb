{
 "cells": [
  {
   "cell_type": "markdown",
   "metadata": {},
   "source": [
    "# 并行策略自适应搜索\n",
    "\n",
    "## 下载自适应并行工具包\n",
    "\n",
    "> 依赖python3.9"
   ]
  },
  {
   "cell_type": "code",
   "execution_count": 1,
   "metadata": {},
   "outputs": [
    {
     "name": "stdout",
     "output_type": "stream",
     "text": [
      "mkdir: /workspace: Read-only file system\n",
      "Downloading autoparallel tool...\n",
      "/workspace/pfs/tools/autoparallel_centos_0.0.1.1.tgz: No such file or directory\n",
      "Extracting autoparallel tool...\n",
      "tar: Error opening archive: Failed to open '/workspace/pfs/tools/build'\n",
      "\u001b[31mERROR: Could not open requirements file: [Errno 2] No such file or directory: '/workspace/pfs/tools/build/requirements.txt'\u001b[0m\u001b[31m\n",
      "\u001b[0m"
     ]
    }
   ],
   "source": [
    "! mkdir -p /workspace/pfs/tools\n",
    "! echo \"Downloading autoparallel tool...\"\n",
    "! wget https://aihc-aiak-helper.bj.bcebos.com/tools/autoparallel/0.0.1.1/autoparallel_centos_0.0.1.1.tgz -O /workspace/pfs/tools/autoparallel_centos_0.0.1.1.tgz\n",
    "! echo \"Extracting autoparallel tool...\"\n",
    "! tar -xzvf /workspace/pfs/tools/build -C /workspace/pfs/tools/\n",
    "! pip install -r /workspace/pfs/tools/build/requirements.txt"
   ]
  },
  {
   "cell_type": "markdown",
   "metadata": {},
   "source": [
    "## 搜索并行策略"
   ]
  },
  {
   "cell_type": "code",
   "execution_count": null,
   "metadata": {},
   "outputs": [],
   "source": [
    "! model_name=llama2-70b\n",
    "! num_gpu=256\n",
    "! nproc_per_node=8\n",
    "! gpu_infos=a800\n",
    "! global_batch_size=512\n",
    "! sequence_length=4096\n",
    "! top=3\n",
    "! python /workspace/pfs/tools/build/main.py \\\n",
    "    --model-name ${model_name} \\\n",
    "    --num-gpus ${num_gpu} \\\n",
    "    --nproc-per-node ${nproc_per_node} \\\n",
    "    --gpu-infos ${gpu_infos} \\\n",
    "    --global-batch-size ${global_batch_size} \\\n",
    "    --sequence-length ${sequence_length} \\\n",
    "    --top ${top}"
   ]
  }
 ],
 "metadata": {
  "kernelspec": {
   "display_name": "py310",
   "language": "python",
   "name": "python3"
  },
  "language_info": {
   "codemirror_mode": {
    "name": "ipython",
    "version": 3
   },
   "file_extension": ".py",
   "mimetype": "text/x-python",
   "name": "python",
   "nbconvert_exporter": "python",
   "pygments_lexer": "ipython3",
   "version": "3.10.14"
  }
 },
 "nbformat": 4,
 "nbformat_minor": 2
}
