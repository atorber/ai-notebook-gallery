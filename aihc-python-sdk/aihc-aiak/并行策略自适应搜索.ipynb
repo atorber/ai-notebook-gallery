{
 "cells": [
  {
   "cell_type": "markdown",
   "metadata": {},
   "source": [
    "# 并行策略自适应搜索\n",
    "\n",
    "## 下载自适应并行工具包\n",
    "\n",
    "> 依赖python3.9"
   ]
  },
  {
   "cell_type": "code",
   "execution_count": null,
   "metadata": {},
   "outputs": [],
   "source": [
    "! mkdir -p /workspace/pfs/tools\n",
    "! echo \"Downloading autoparallel tool...\"\n",
    "! wget https://aihc-aiak-helper.bj.bcebos.com/tools/autoparallel/0.0.1.1/autoparallel_centos_0.0.1.1.tgz -O /workspace/pfs/tools/autoparallel_centos_0.0.1.1.tgz\n",
    "! echo \"Extracting autoparallel tool...\"\n",
    "! tar -xzvf /workspace/pfs/tools/build -C /workspace/pfs/tools/\n",
    "! pip install -r /workspace/pfs/tools/build/requirements.txt"
   ]
  },
  {
   "cell_type": "markdown",
   "metadata": {},
   "source": [
    "## 搜索并行策略"
   ]
  },
  {
   "cell_type": "code",
   "execution_count": null,
   "metadata": {},
   "outputs": [],
   "source": [
    "! python /workspace/pfs/tools/build/main.py \\\n",
    "    --model-name llama2-70b \\\n",
    "    --num-gpus 256 \\\n",
    "    --nproc-per-node 8 \\\n",
    "    --gpu-infos a800 \\\n",
    "    --global-batch-size 512 \\\n",
    "    --sequence-length 4096 \\\n",
    "    --top 3"
   ]
  }
 ],
 "metadata": {
  "language_info": {
   "name": "python"
  }
 },
 "nbformat": 4,
 "nbformat_minor": 2
}
