{
 "cells": [
  {
   "cell_type": "markdown",
   "metadata": {},
   "source": [
    "# 并行策略自适应搜索\n",
    "\n",
    "## 下载自适应并行工具包\n",
    "\n",
    "> 依赖python3.9"
   ]
  },
  {
   "cell_type": "code",
   "execution_count": null,
   "metadata": {},
   "outputs": [],
   "source": [
    "! mkdir -p /workspace/pfs/tools\n",
    "! echo \"Downloading autoparallel tool...\"\n",
    "! wget https://aihc-aiak-helper.bj.bcebos.com/tools/autoparallel/0.0.1.1/autoparallel_centos_0.0.1.1.tgz -O /workspace/pfs/tools/autoparallel_centos_0.0.1.1.tgz\n",
    "! echo \"Extracting autoparallel tool...\"\n",
    "! tar -xzvf /workspace/pfs/tools/build -C /workspace/pfs/tools/\n",
    "! pip install -r /workspace/pfs/tools/build/requirements.txt"
   ]
  },
  {
   "cell_type": "markdown",
   "metadata": {},
   "source": [
    "## 搜索并行策略"
   ]
  },
  {
   "cell_type": "code",
   "execution_count": null,
   "metadata": {},
   "outputs": [],
   "source": [
    "! python /workspace/pfs/tools/build/main.py \\\n",
    "    --model-name llama2-70b \\\n",
    "    --num-gpus 256 \\\n",
    "    --nproc-per-node 8 \\\n",
    "    --gpu-infos a800 \\\n",
    "    --global-batch-size 512 \\\n",
    "    --sequence-length 4096 \\\n",
    "    --top 3"
   ]
  }
 ],
 "metadata": {
  "kernelspec": {
   "display_name": "py310",
   "language": "python",
   "name": "python3"
  },
  "language_info": {
   "codemirror_mode": {
    "name": "ipython",
    "version": 3
   },
   "file_extension": ".py",
   "mimetype": "text/x-python",
   "name": "python",
   "nbconvert_exporter": "python",
   "pygments_lexer": "ipython3",
   "version": "3.10.14"
  }
 },
 "nbformat": 4,
 "nbformat_minor": 2
}
