{
 "cells": [
  {
   "cell_type": "markdown",
   "metadata": {},
   "source": [
    "# 使用AIAK镜像创建开发机\n",
    "\n",
    "## 镜像地址"
   ]
  },
  {
   "cell_type": "raw",
   "metadata": {
    "vscode": {
     "languageId": "raw"
    }
   },
   "source": [
    "registry.baidubce.com/aihc-aiak/aiak-training-llm:ubuntu22.04-cu12.3-torch2.2.0-py310-bccl1.2.7.2_v2.1.1.5_release"
   ]
  },
  {
   "cell_type": "markdown",
   "metadata": {
    "vscode": {
     "languageId": "raw"
    }
   },
   "source": [
    "## 挂载路径"
   ]
  },
  {
   "cell_type": "raw",
   "metadata": {},
   "source": [
    "/workspace/pfs"
   ]
  },
  {
   "cell_type": "markdown",
   "metadata": {},
   "source": [
    "## 执行命令"
   ]
  },
  {
   "cell_type": "raw",
   "metadata": {
    "vscode": {
     "languageId": "raw"
    }
   },
   "source": [
    "#!/bin/bash\n",
    "\n",
    "set -e\n",
    "\n",
    "# 镜像地址：\n",
    "# registry.baidubce.com/aihc-aiak/aiak-training-llm:ubuntu22.04-cu12.3-torch2.2.0-py310-bccl1.2.7.2_v2.1.1.5_release\n",
    "\n",
    "# PFS挂载路径\n",
    "# /workspace/pfs\n",
    "\n",
    "# Log function to capture script steps\n",
    "log() {\n",
    "    echo \"$(date +'%Y-%m-%d %H:%M:%S') - $1\"\n",
    "}\n",
    "\n",
    "RUN_JUPYTER=1\n",
    "JUPYTER_TOKEN=${JUPYTER_TOKEN:-\"b5991a5f456f820c0cf48a00691ae11434b6c32633e07dea\"}\n",
    "log \"Jupyter token: $JUPYTER_TOKEN\"\n",
    "\n",
    "JUPYTER_PORT=${JUPYTER_PORT:-\"8600\"}\n",
    "log \"JupyterLab port: $JUPYTER_PORT\"\n",
    "\n",
    "JUPYTERLAB_BASE_URL=${JUPYTERLAB_BASE_URL}\n",
    "log \"JupyterLab base URL: $JUPYTERLAB_BASE_URL\"\n",
    "\n",
    "WORKDIR=\"/workspace\"\n",
    "JUPYTER_CONFIG_DIR=\"$WORKDIR/.jupyter\"\n",
    "\n",
    "# Install node.js\n",
    "log \"Setting up Node.js...\"\n",
    "curl -fsSL https://deb.nodesource.com/setup_16.x | bash -\n",
    "if [ $? -ne 0 ]; then\n",
    "    log \"Failed to set up Node.js repository\"\n",
    "    exit 1\n",
    "fi\n",
    "apt-get install -y nodejs\n",
    "if [ $? -ne 0 ]; then\n",
    "    log \"Failed to install Node.js\"\n",
    "    exit 1\n",
    "fi\n",
    "\n",
    "log \"Starting script...\"\n",
    "\n",
    "# Create Jupyter config directory\n",
    "log \"Creating Jupyter config directory...\"\n",
    "mkdir -p \"$JUPYTER_CONFIG_DIR\"\n",
    "CONFIG_FILE=\"$JUPYTER_CONFIG_DIR/jupyter_notebook_config.py\"\n",
    "\n",
    "log \"Generating Jupyter config file...\"\n",
    "cat <<EOL > $CONFIG_FILE\n",
    "import os\n",
    "c = get_config()\n",
    "c.NotebookApp.allow_remote_access = True\n",
    "c.NotebookApp.allow_root = True\n",
    "c.NotebookApp.terminado_settings = {'shell_command' : ['/bin/bash']}\n",
    "c.LabApp.base_url = os.environ.get(\"JUPYTERLAB_BASE_URL\", \"/jupyter\")\n",
    "c.LabApp.ip = '0.0.0.0'\n",
    "c.LabApp.port = os.environ.get(\"JUPYTER_PORT\", \"8600\")\n",
    "c.LabApp.terminado_settings = {'shell_command' : ['/bin/bash']}\n",
    "c.NotebookApp.notebook_dir = ${WORKDIR}\n",
    "EOL\n",
    "\n",
    "# Install Python packages\n",
    "log \"Installing JupyterLab and additional Python packages...\"\n",
    "pip install jupyterlab -i https://pypi.tuna.tsinghua.edu.cn/simple\n",
    "pip install jupyterlab-language-pack-zh-CN -i https://pypi.tuna.tsinghua.edu.cn/simple\n",
    "pip install jupytext -i https://pypi.tuna.tsinghua.edu.cn/simple\n",
    "\n",
    "if [ $? -ne 0 ]; then\n",
    "    log \"Failed to install Python packages\"\n",
    "    exit 1\n",
    "else\n",
    "    log \"Python packages installed successfully\"\n",
    "fi\n",
    "\n",
    "# Start JupyterLab\n",
    "log \"Starting JupyterLab...\"\n",
    "nohup jupyter-lab --no-browser --NotebookApp.token=\"${JUPYTER_TOKEN}\" --port=8600 --ip=0.0.0.0 --NotebookApp.base_url=\"${JUPYTERLAB_BASE_URL}\" --notebook-dir=\"${WORKDIR}\" > /workspace/.jupyter/jupyter.log 2>&1 &\n",
    "if [ $? -ne 0 ]; then\n",
    "    log \"Failed to start JupyterLab\"\n",
    "    exit 1\n",
    "else\n",
    "    log \"JupyterLab started successfully\"\n",
    "fi\n",
    "\n",
    "# Block the script and keep the process running\n",
    "while true; do\n",
    "    log \"JupyterLab is running...\"\n",
    "    sleep 60\n",
    "done"
   ]
  },
  {
   "cell_type": "markdown",
   "metadata": {
    "vscode": {
     "languageId": "raw"
    }
   },
   "source": [
    "## 测试调试\n",
    "\n",
    "tail -f /workspace/.jupyter/jupyter.log\n",
    "\n",
    "lsof -i :8600\n",
    "\n",
    "sudo apt-get update\n",
    "sudo apt-get install lsof\n",
    "\n",
    "curl -I http://127.0.0.1:8600"
   ]
  }
 ],
 "metadata": {
  "language_info": {
   "name": "python"
  }
 },
 "nbformat": 4,
 "nbformat_minor": 2
}
