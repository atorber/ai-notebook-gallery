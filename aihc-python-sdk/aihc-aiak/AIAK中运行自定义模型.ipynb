{
 "cells": [
  {
   "cell_type": "markdown",
   "id": "ccd3739b-1903-42e0-be77-229777f8d01e",
   "metadata": {},
   "source": [
    "# AIAK中运行自定义模型\n",
    "\n",
    "本文讲解如何在AIAK中运行自定义模型代码"
   ]
  }
 ],
 "metadata": {
  "kernelspec": {
   "display_name": "Python 3 (ipykernel)",
   "language": "python",
   "name": "python3"
  },
  "language_info": {
   "codemirror_mode": {
    "name": "ipython",
    "version": 3
   },
   "file_extension": ".py",
   "mimetype": "text/x-python",
   "name": "python",
   "nbconvert_exporter": "python",
   "pygments_lexer": "ipython3",
   "version": "3.11.7"
  }
 },
 "nbformat": 4,
 "nbformat_minor": 5
}
