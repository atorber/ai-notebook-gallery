{
 "cells": [
  {
   "cell_type": "markdown",
   "id": "2499d734-eb9d-4eea-8d42-7a5895c0f7c0",
   "metadata": {},
   "source": [
    "# 快速入门\n",
    "\n",
    "## 示例一：单机房单芯片仿真"
   ]
  },
  {
   "cell_type": "code",
   "execution_count": null,
   "id": "1d50870d-f73b-4f5a-b75c-3daaeb1686bf",
   "metadata": {},
   "outputs": [],
   "source": [
    "! python3 main.py --model-name llama2-70b --num-gpus 256 --nproc-per-node 8 --gpu-infos a800 --global-batch-size 512 --sequence-length 4096 --top 3"
   ]
  },
  {
   "cell_type": "markdown",
   "id": "38e7a18d-eb04-4bdb-aab1-291a71532f1c",
   "metadata": {},
   "source": [
    "## 示例二：单机房多芯片仿真"
   ]
  },
  {
   "cell_type": "code",
   "execution_count": null,
   "id": "4fc24d3f-7a2c-405f-b2b4-201edbbd869f",
   "metadata": {},
   "outputs": [],
   "source": [
    "! python3 main.py --model-name llama2-70b --num-gpus 256 --nproc-per-node 8 --gpu-infos a800:128,h800:160 --global-batch-size 512 --sequence-length 4096 --top 3"
   ]
  },
  {
   "cell_type": "markdown",
   "id": "c33cb1c4-04fb-461a-a49c-eaee8335fabd",
   "metadata": {},
   "source": [
    "## 并行策略搜索\n",
    "\n",
    "### 设定参数"
   ]
  },
  {
   "cell_type": "code",
   "execution_count": null,
   "id": "76cd45d5-8069-4205-8e94-3503884b04dd",
   "metadata": {},
   "outputs": [],
   "source": [
    "info = {\n",
    "   \"model-name\":\"llama2-70b\",\n",
    "    \"num-gpus\":\"256\",\n",
    "    \"nproc-per-node\":\"8\",\n",
    "    \"gpu-infos\":\"a800\",\n",
    "    \"global-batch-size\":\"512\",\n",
    "    \"sequence-length\":\"4096\",\n",
    "    \"top\":\"3\"\n",
    "}"
   ]
  },
  {
   "cell_type": "markdown",
   "id": "605c27c5-fcf3-40be-baf1-092bb5a03a5b",
   "metadata": {},
   "source": [
    "### 搜索参数"
   ]
  },
  {
   "cell_type": "code",
   "execution_count": 19,
   "id": "78705357-301c-42f5-b635-7c0b0af2fd5c",
   "metadata": {},
   "outputs": [
    {
     "name": "stdout",
     "output_type": "stream",
     "text": [
      "+------------------+--------------------+---------------------+-------------------------------------------------+\n",
      "|   sim_throughput |   sim_total_time_s | max-use-mem-size    | strategy                                        |\n",
      "+==================+====================+=====================+=================================================+\n",
      "|           118247 |            17.7354 | [72.52196502685547] | {                                               |\n",
      "|                  |                    |                     |     \"pipeline-model-parallel-size\": 8,          |\n",
      "|                  |                    |                     |     \"tensor-model-parallel-size\": 2,            |\n",
      "|                  |                    |                     |     \"micro-batch-size\": 1,                      |\n",
      "|                  |                    |                     |     \"use-flash-attn\": \"\",                       |\n",
      "|                  |                    |                     |     \"sequence-parallel\": \"\",                    |\n",
      "|                  |                    |                     |     \"use-distributed-optimizer\": \"\",            |\n",
      "|                  |                    |                     |     \"overlap-grad-reduce\": \"\",                  |\n",
      "|                  |                    |                     |     \"overlap-param-gather\": \"\",                 |\n",
      "|                  |                    |                     |     \"tp-comm-overlap\": \"\",                      |\n",
      "|                  |                    |                     |     \"pipeline-stage-chips\": [                   |\n",
      "|                  |                    |                     |         \"a800\"                                  |\n",
      "|                  |                    |                     |     ],                                          |\n",
      "|                  |                    |                     |     \"num-layers-per-virtual-pipeline-stage\": 1, |\n",
      "|                  |                    |                     |     \"overlap-p2p-communication\": \"\"             |\n",
      "|                  |                    |                     | }                                               |\n",
      "+------------------+--------------------+---------------------+-------------------------------------------------+\n",
      "|           113911 |            18.4106 | [45.42027282714844] | {                                               |\n",
      "|                  |                    |                     |     \"pipeline-model-parallel-size\": 4,          |\n",
      "|                  |                    |                     |     \"tensor-model-parallel-size\": 4,            |\n",
      "|                  |                    |                     |     \"micro-batch-size\": 1,                      |\n",
      "|                  |                    |                     |     \"use-flash-attn\": \"\",                       |\n",
      "|                  |                    |                     |     \"sequence-parallel\": \"\",                    |\n",
      "|                  |                    |                     |     \"use-distributed-optimizer\": \"\",            |\n",
      "|                  |                    |                     |     \"overlap-grad-reduce\": \"\",                  |\n",
      "|                  |                    |                     |     \"overlap-param-gather\": \"\",                 |\n",
      "|                  |                    |                     |     \"tp-comm-overlap\": \"\",                      |\n",
      "|                  |                    |                     |     \"pipeline-stage-chips\": [                   |\n",
      "|                  |                    |                     |         \"a800\"                                  |\n",
      "|                  |                    |                     |     ],                                          |\n",
      "|                  |                    |                     |     \"num-layers-per-virtual-pipeline-stage\": 2, |\n",
      "|                  |                    |                     |     \"overlap-p2p-communication\": \"\"             |\n",
      "|                  |                    |                     | }                                               |\n",
      "+------------------+--------------------+---------------------+-------------------------------------------------+\n",
      "|           113680 |            18.448  | [47.24839782714844] | {                                               |\n",
      "|                  |                    |                     |     \"pipeline-model-parallel-size\": 4,          |\n",
      "|                  |                    |                     |     \"tensor-model-parallel-size\": 4,            |\n",
      "|                  |                    |                     |     \"micro-batch-size\": 1,                      |\n",
      "|                  |                    |                     |     \"use-flash-attn\": \"\",                       |\n",
      "|                  |                    |                     |     \"sequence-parallel\": \"\",                    |\n",
      "|                  |                    |                     |     \"use-distributed-optimizer\": \"\",            |\n",
      "|                  |                    |                     |     \"overlap-grad-reduce\": \"\",                  |\n",
      "|                  |                    |                     |     \"overlap-param-gather\": \"\",                 |\n",
      "|                  |                    |                     |     \"tp-comm-overlap\": \"\",                      |\n",
      "|                  |                    |                     |     \"pipeline-stage-chips\": [                   |\n",
      "|                  |                    |                     |         \"a800\"                                  |\n",
      "|                  |                    |                     |     ],                                          |\n",
      "|                  |                    |                     |     \"num-layers-per-virtual-pipeline-stage\": 4, |\n",
      "|                  |                    |                     |     \"overlap-p2p-communication\": \"\"             |\n",
      "|                  |                    |                     | }                                               |\n",
      "+------------------+--------------------+---------------------+-------------------------------------------------+\n"
     ]
    }
   ],
   "source": [
    "import subprocess\n",
    "import json\n",
    "from tabulate import tabulate\n",
    "\n",
    "# 定义命令及其参数\n",
    "command = [\n",
    "    \"python3\", \"main.py\",\n",
    "    \"--model-name\", info['model-name'],\n",
    "    \"--num-gpus\", info['num-gpus'],\n",
    "    \"--nproc-per-node\", info['nproc-per-node'],\n",
    "    \"--gpu-infos\", info['gpu-infos'],\n",
    "    \"--global-batch-size\", info['global-batch-size'],\n",
    "    \"--sequence-length\", info['sequence-length'],\n",
    "    \"--top\", info['top']\n",
    "]\n",
    "\n",
    "# 使用 subprocess 运行命令\n",
    "try:\n",
    "    result = subprocess.run(command, check=True, capture_output=True, text=True)\n",
    "    \n",
    "    # 将输出按行分割\n",
    "    output_lines = result.stdout.splitlines()\n",
    "    output_list = []\n",
    "    # 逐行解析每个 JSON 对象\n",
    "    for line in output_lines:\n",
    "        try:\n",
    "            json_output = json.loads(line.replace(\"'\", '\"'))  # 替换单引号为双引号\n",
    "            json_output['strategy'] = json.dumps(json_output['strategy'], indent=4)\n",
    "            output_list.append(json_output)\n",
    "            # print(\"JSON Output:\", json.dumps(json_output, indent=4))\n",
    "        except json.JSONDecodeError as json_error:\n",
    "            print(\"Failed to decode JSON for line:\", line, \"Error:\", json_error)\n",
    "    # print(json.dumps(output_list, indent=4))\n",
    "except subprocess.CalledProcessError as e:\n",
    "    print(\"Command failed with error:\", e)\n",
    "\n",
    "# 提取键和值，准备输出\n",
    "headers = list(output_list[0].keys())\n",
    "rows = [[item[key] for key in headers] for item in output_list]\n",
    "\n",
    "# 使用 tabulate 美化输出\n",
    "print(tabulate(rows, headers=headers, tablefmt=\"grid\"))"
   ]
  },
  {
   "cell_type": "code",
   "execution_count": null,
   "id": "9265e37b-8c10-4a2b-9cbe-00edfc9d141c",
   "metadata": {},
   "outputs": [],
   "source": []
  }
 ],
 "metadata": {
  "kernelspec": {
   "display_name": "Python 3 (ipykernel)",
   "language": "python",
   "name": "python3"
  },
  "language_info": {
   "codemirror_mode": {
    "name": "ipython",
    "version": 3
   },
   "file_extension": ".py",
   "mimetype": "text/x-python",
   "name": "python",
   "nbconvert_exporter": "python",
   "pygments_lexer": "ipython3",
   "version": "3.11.7"
  }
 },
 "nbformat": 4,
 "nbformat_minor": 5
}
