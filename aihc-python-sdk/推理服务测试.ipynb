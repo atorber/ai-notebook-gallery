{
 "cells": [
  {
   "cell_type": "code",
   "execution_count": null,
   "id": "2984e3b2-7208-43a3-b48d-3110b3b93c81",
   "metadata": {},
   "outputs": [],
   "source": [
    "# 推理服务请求测试"
   ]
  },
  {
   "cell_type": "code",
   "execution_count": null,
   "id": "28720728-fb24-49a8-b8a8-18ae3f196cd9",
   "metadata": {},
   "outputs": [],
   "source": [
    "! pip install openai"
   ]
  },
  {
   "cell_type": "code",
   "execution_count": 1,
   "id": "cf343fc6-d29c-4e24-8cfe-2bc94d975959",
   "metadata": {},
   "outputs": [
    {
     "ename": "SyntaxError",
     "evalue": "unterminated string literal (detected at line 11) (51009516.py, line 11)",
     "output_type": "error",
     "traceback": [
      "\u001b[0;36m  Cell \u001b[0;32mIn[1], line 11\u001b[0;36m\u001b[0m\n\u001b[0;31m    base_url=f\"http://{base_host}/v1/model/{model_name}',\u001b[0m\n\u001b[0m             ^\u001b[0m\n\u001b[0;31mSyntaxError\u001b[0m\u001b[0;31m:\u001b[0m unterminated string literal (detected at line 11)\n"
     ]
    }
   ],
   "source": [
    "from openai import OpenAI\n",
    "\n",
    "model_name = \"sft-llama2-7b\"  # 创建的服务名称，请求地址中的$MODEL_NAME\n",
    "base_host=\"192.168.0.4\" # 服务地址中的ip地址，内网地址\n",
    "\n",
    "if __name__ == '__main__':\n",
    "    \n",
    "    client = OpenAI(\n",
    "        # This is the default and can be omitted\n",
    "        api_key='aihc',\n",
    "        base_url=f'http://{base_host}/v1/model/{model_name}',\n",
    "    )\n",
    "    completion = client.chat.completions.create(\n",
    "        model=model_name,\n",
    "#         temperature=0.8,\n",
    "#         top_p=0.8,\n",
    "#         n=1,\n",
    "        max_tokens=1024,\n",
    "#         frequency_penalty=1.5,\n",
    "#         stop=[\".\"],\n",
    "        messages=[\n",
    "            {'role': 'system', 'content': \"You are a helpful, respectful and honest assistant. Always answer as helpfully as possible, while being safe.  Your answers should not include any harmful, unethical, racist, sexist, toxic, dangerous, or illegal content. Please ensure that your responses are socially unbiased and positive in nature. If a question does not make any sense, or is not factually coherent, explain why instead of answering something not correct. If you don't know the answer to a question, please don't share false information.\"},\n",
    "                  {'role': 'user', 'content': '你有什么能力？'}]\n",
    "\n",
    "    )\n",
    "    print(completion)\n",
    "    print(\"\\r\\n\")\n",
    "    for choice in completion.choices:\n",
    "        # 打印生成的文本,解码为中文\n",
    "        content = choice.message.content\n",
    "        print(content)\n",
    "        # print(\"[\" + choice.message.content + \"]\")\n",
    "        print(\"\\r\\n\")"
   ]
  },
  {
   "cell_type": "code",
   "execution_count": null,
   "id": "d1ca2c49-69d0-407a-ae01-3d5996a8a959",
   "metadata": {},
   "outputs": [],
   "source": []
  }
 ],
 "metadata": {
  "kernelspec": {
   "display_name": "Python 3 (ipykernel)",
   "language": "python",
   "name": "python3"
  },
  "language_info": {
   "codemirror_mode": {
    "name": "ipython",
    "version": 3
   },
   "file_extension": ".py",
   "mimetype": "text/x-python",
   "name": "python",
   "nbconvert_exporter": "python",
   "pygments_lexer": "ipython3",
   "version": "3.11.7"
  }
 },
 "nbformat": 4,
 "nbformat_minor": 5
}
