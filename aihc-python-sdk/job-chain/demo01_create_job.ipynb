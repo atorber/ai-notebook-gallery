{
 "cells": [
  {
   "cell_type": "markdown",
   "id": "975944d3-2fe1-4206-9539-51f65c9acbce",
   "metadata": {},
   "source": [
    "# 提交任务\n",
    "\n",
    "只需要修改config_file文件路径"
   ]
  },
  {
   "cell_type": "code",
   "execution_count": null,
   "id": "6bf88cd7-8bc0-462d-84c3-26f2e14fd93a",
   "metadata": {},
   "outputs": [],
   "source": [
    "import job_chain\n",
    "\n",
    "config_file = \"/root/pfs/dev-test/job-chain/examples/job_info/chain_info.json\"\n",
    "\n",
    "job_chain.create_job_chain(config_file=config_file,index=0)"
   ]
  }
 ],
 "metadata": {
  "kernelspec": {
   "display_name": "Python 3 (ipykernel)",
   "language": "python",
   "name": "python3"
  },
  "language_info": {
   "codemirror_mode": {
    "name": "ipython",
    "version": 3
   },
   "file_extension": ".py",
   "mimetype": "text/x-python",
   "name": "python",
   "nbconvert_exporter": "python",
   "pygments_lexer": "ipython3",
   "version": "3.10.14"
  }
 },
 "nbformat": 4,
 "nbformat_minor": 5
}
