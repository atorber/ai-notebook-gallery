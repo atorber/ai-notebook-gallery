{
 "cells": [
  {
   "cell_type": "markdown",
   "id": "975944d3-2fe1-4206-9539-51f65c9acbce",
   "metadata": {},
   "source": [
    "# 提交任务\n",
    "\n",
    "只需要修改config_file文件路径"
   ]
  },
  {
   "cell_type": "code",
   "execution_count": null,
   "id": "6bf88cd7-8bc0-462d-84c3-26f2e14fd93a",
   "metadata": {},
   "outputs": [],
   "source": [
    "import aiak_parameter_generator\n",
    "\n",
    "chain_job_config=\"/Users/luyuchao/Documents/GitHub/ai-notebook-gallery/aihc-python-sdk/job-chain/examples/aiak_demo\"\n",
    "aiak_job_config=\"/Users/luyuchao/Documents/GitHub/ai-notebook-gallery/aihc-python-sdk/job-chain/examples/aiak_demo/aiak_pretrain_job_info.json\"\n",
    "\n",
    "aiak_parameter_generator.generate_aiak_parameter(chain_job_config,aiak_job_config)"
   ]
  }
 ],
 "metadata": {
  "kernelspec": {
   "display_name": "py310",
   "language": "python",
   "name": "python3"
  },
  "language_info": {
   "codemirror_mode": {
    "name": "ipython",
    "version": 3
   },
   "file_extension": ".py",
   "mimetype": "text/x-python",
   "name": "python",
   "nbconvert_exporter": "python",
   "pygments_lexer": "ipython3",
   "version": "3.10.15"
  }
 },
 "nbformat": 4,
 "nbformat_minor": 5
}
