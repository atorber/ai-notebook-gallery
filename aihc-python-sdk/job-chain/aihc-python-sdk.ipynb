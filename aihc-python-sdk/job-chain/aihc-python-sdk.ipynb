{
 "cells": [
  {
   "cell_type": "markdown",
   "id": "975944d3-2fe1-4206-9539-51f65c9acbce",
   "metadata": {},
   "source": [
    "# aihc python sdk\n",
    "\n",
    "- 支持创建任务\n",
    "- 获取任务列表"
   ]
  },
  {
   "cell_type": "markdown",
   "id": "c43f79d4",
   "metadata": {},
   "source": [
    "## 安装依赖"
   ]
  },
  {
   "cell_type": "code",
   "execution_count": null,
   "id": "197590c6",
   "metadata": {},
   "outputs": [],
   "source": [
    "! pip install bce-python-sdk-next==100.9.19.2\n",
    "! pip install future==1.0.0\n",
    "! pip install pycryptodome==3.20.0"
   ]
  },
  {
   "cell_type": "markdown",
   "id": "83eb2625",
   "metadata": {},
   "source": [
    "## 示例代码"
   ]
  },
  {
   "cell_type": "code",
   "execution_count": null,
   "id": "6bf88cd7-8bc0-462d-84c3-26f2e14fd93a",
   "metadata": {},
   "outputs": [],
   "source": [
    "# -*- coding: utf-8 -*-\n",
    "import sys\n",
    "import json\n",
    "import os\n",
    "import time\n",
    "import logging\n",
    "from baidubce.services.aihc.aihc_client import AIHCClient\n",
    "\n",
    "import baidubce.protocol\n",
    "from baidubce.bce_client_configuration import BceClientConfiguration\n",
    "from baidubce.auth.bce_credentials import BceCredentials\n",
    "\n",
    "client_token = 'test-aihc-' + str(int(time.time()))\n",
    "logging.info('client_token: %s', client_token)\n",
    "\n",
    "# ak=\"your ak\"\n",
    "# sk=\"your sk\"\n",
    "\n",
    "ak=\"\"\n",
    "sk=\"\"\n",
    "\n",
    "host=\"aihc.bj.baidubce.com\"\n",
    "\n",
    "config = BceClientConfiguration(\n",
    "    credentials=BceCredentials(ak, sk),\n",
    "    endpoint=host,\n",
    "    protocol=baidubce.protocol.HTTPS\n",
    ")\n",
    "\n",
    "aihc_client = AIHCClient(config)\n",
    "\n",
    "# 创建任务\n",
    "# resourcePoolId = 'your resourcePoolId'\n",
    "# payload = {}\n",
    "# res = aihc_client.create_aijob(\n",
    "#     client_token=client_token,\n",
    "#     resourcePoolId=resourcePoolId,\n",
    "#     payload=payload\n",
    "# )\n",
    "# logging.info('res', res)\n",
    "\n",
    "# 获取任务列表\n",
    "all_aijobs = aihc_client.get_all_aijobs(resourcePoolId='cce-e0isdmib')\n",
    "print('all_aijobs: ', all_aijobs.result)\n",
    "logging.info('all_aijobs: %s', all_aijobs)\n"
   ]
  }
 ],
 "metadata": {
  "kernelspec": {
   "display_name": "Python 3 (ipykernel)",
   "language": "python",
   "name": "python3"
  },
  "language_info": {
   "codemirror_mode": {
    "name": "ipython",
    "version": 3
   },
   "file_extension": ".py",
   "mimetype": "text/x-python",
   "name": "python",
   "nbconvert_exporter": "python",
   "pygments_lexer": "ipython3",
   "version": "3.10.14"
  }
 },
 "nbformat": 4,
 "nbformat_minor": 5
}
