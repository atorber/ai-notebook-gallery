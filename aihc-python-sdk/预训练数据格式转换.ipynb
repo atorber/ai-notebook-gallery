{
 "cells": [
  {
   "cell_type": "markdown",
   "metadata": {},
   "source": [
    "# 预训练数据处理\n",
    "\n",
    "以WuDaoCorpus2.0_base_sample数据集转换为例"
   ]
  },
  {
   "cell_type": "code",
   "execution_count": null,
   "metadata": {
    "vscode": {
     "languageId": "plaintext"
    }
   },
   "outputs": [],
   "source": [
    "! wget -o /root/pfs/datasets/WuDaoCorpus2.0_base_sample.tgz https://cce-ai-datasets.cdn.bcebos.com/datasets/aiak/WuDaoCorpus2.0_base_sample.tgz\n",
    "! tar zxvf WuDaoCorpus2.0_base_sample.tgz -C /root/pfs/datasets"
   ]
  },
  {
   "cell_type": "markdown",
   "metadata": {},
   "source": [
    "### 数据格式转换\n",
    "\n",
    "目标格式alpaca格式数据集示例：\n",
    "\n",
    "```\n",
    "[\n",
    "  {\n",
    "    \"instruction\": \"用户指令\",\n",
    "    \"input\": \"用户输入的问题\",\n",
    "    \"output\": \"模型输出的答案\",\n",
    "    \"system\": \"系统提示词\",\n",
    "    \"history\": [\n",
    "      [\"第一轮对话用户输入的问题\", \"第一轮对话模型输出的答案\"],\n",
    "      [\"第二轮对话用户输入的问题\", \"第二轮对话模型输出的答案\"]\n",
    "    ]\n",
    "  }\n",
    "]\n",
    "```\n",
    "\n",
    "配置文件：\n",
    "\n",
    "```\n",
    "\"custom_dataset_name\": {\n",
    "  \"format\": \"alpaca\",\n",
    "  \"columns\": {\n",
    "    \"prompt\": \"instruction\",\n",
    "    \"query\": \"input\",\n",
    "    \"response\": \"output\",\n",
    "    \"system\": \"system\",\n",
    "    \"history\": \"history\"\n",
    "  }\n",
    "}\n",
    "```"
   ]
  },
  {
   "cell_type": "code",
   "execution_count": null,
   "metadata": {},
   "outputs": [],
   "source": [
    "import json\n",
    "import os\n",
    "\n",
    "# 定义要保存的jsonl文件名\n",
    "output_file = '/root/pfs/datasets/WuDaoCorpus2.0_base_sample.jsonl'\n",
    "input_dir = '/root/pfs/datasets/WuDaoCorpus2.0_base_sample'\n",
    "# 打开文件准备写入\n",
    "i = 0\n",
    "with open(output_file, 'w') as file:\n",
    "    \n",
    "    # 遍历当前目录下所有的.json文件\n",
    "    for filename in os.listdir(input_dir):\n",
    "        if filename.endswith('.json'):\n",
    "            print(filename)\n",
    "            # 读取json文件内容\n",
    "            with open(input_dir+ '/' +filename, 'r') as json_file:\n",
    "                data_list = json.load(json_file)\n",
    "                # 遍历数据列表\n",
    "                for data in data_list:\n",
    "                    # 将字典转换为JSON字符串\n",
    "                    data['text'] = data['content']\n",
    "                    data['content'] = ''\n",
    "                    json_str = json.dumps(data)\n",
    "                    if len(json_str) < 100:\n",
    "                        print('is null')\n",
    "                    i = i+1\n",
    "                    # if i%100 == 0:\n",
    "                    #     print(json_str)\n",
    "                    # 写入文件，并添加换行符\n",
    "                    if i<10000:\n",
    "                        file.write(json_str + '\\n')\n",
    "                    else:\n",
    "                        file.write(json_str)\n",
    "print(i)                  \n",
    "print(output_file)"
   ]
  }
 ],
 "metadata": {
  "language_info": {
   "name": "python"
  }
 },
 "nbformat": 4,
 "nbformat_minor": 2
}
