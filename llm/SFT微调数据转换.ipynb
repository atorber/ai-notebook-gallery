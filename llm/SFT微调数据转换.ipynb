{
 "cells": [
  {
   "cell_type": "markdown",
   "metadata": {},
   "source": [
    "# SFT微调数据转换\n",
    "\n",
    "上传csv格式的标注数据，转换成SFT微调要求的JSON格式\n",
    "\n",
    "## 数据格式转换\n",
    "\n",
    "目标格式alpaca格式数据集示例：\n",
    "\n",
    "```\n",
    "[\n",
    "  {\n",
    "    \"instruction\": \"用户指令\",\n",
    "    \"input\": \"用户输入的问题\",\n",
    "    \"output\": \"模型输出的答案\",\n",
    "    \"system\": \"系统提示词\",\n",
    "    \"history\": [\n",
    "      [\"第一轮对话用户输入的问题\", \"第一轮对话模型输出的答案\"],\n",
    "      [\"第二轮对话用户输入的问题\", \"第二轮对话模型输出的答案\"]\n",
    "    ]\n",
    "  }\n",
    "]\n",
    "```\n",
    "\n",
    "配置文件：\n",
    "\n",
    "```\n",
    "\"custom_dataset_name\": {\n",
    "  \"format\": \"alpaca\",\n",
    "  \"columns\": {\n",
    "    \"prompt\": \"instruction\",\n",
    "    \"query\": \"input\",\n",
    "    \"response\": \"output\",\n",
    "    \"system\": \"system\",\n",
    "    \"history\": \"history\"\n",
    "  }\n",
    "}\n",
    "```"
   ]
  },
  {
   "cell_type": "code",
   "execution_count": null,
   "metadata": {
    "vscode": {
     "languageId": "plaintext"
    }
   },
   "outputs": [],
   "source": [
    "import json\n",
    "import os\n",
    "import csv\n",
    "\n",
    "def get_sft_data_from_csv(file_path):\n",
    "    sft_data = []\n",
    "    # 读取 CSV 文件\n",
    "    with open(file_path, mode='r', encoding='utf-8') as file:\n",
    "        csv_reader = csv.reader(file)\n",
    "        # header = next(csv_reader)\n",
    "        # print(header)\n",
    "        for row in csv_reader:\n",
    "            # print(row)\n",
    "            if row[1] != '' and row[0] != '模型名称':\n",
    "                sft_data.push(row)\n",
    "    return sft_data\n",
    "\n",
    "# 定义要保存的jsonl文件名\n",
    "output_file = '/root/pfs/datasets/sft_data.json'\n",
    "input_file = '/root/pfs/datasets/raw_data.csv'\n",
    "\n",
    "# 读取csv数据\n",
    "sft_data = get_sft_data_from_csv(input_file)\n",
    "\n",
    "# 写入到json文件\n",
    "with open(output_file, 'w') as f:\n",
    "    json.dump(sft_data, f, indent=4, ensure_ascii=False)"
   ]
  }
 ],
 "metadata": {
  "language_info": {
   "name": "python"
  }
 },
 "nbformat": 4,
 "nbformat_minor": 2
}
